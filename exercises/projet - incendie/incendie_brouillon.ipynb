{
 "metadata": {
  "language_info": {
   "codemirror_mode": {
    "name": "ipython",
    "version": 3
   },
   "file_extension": ".py",
   "mimetype": "text/x-python",
   "name": "python",
   "nbconvert_exporter": "python",
   "pygments_lexer": "ipython3",
   "version": "3.8.5-final"
  },
  "orig_nbformat": 2,
  "kernelspec": {
   "name": "python3",
   "display_name": "Python 3.8.5 64-bit ('l1-python': conda)",
   "metadata": {
    "interpreter": {
     "hash": "ca722e5cbebffff18c2747035ca8d2e532d25cc6638ec7484ba653f8c47584ff"
    }
   }
  }
 },
 "nbformat": 4,
 "nbformat_minor": 2,
 "cells": [
  {
   "cell_type": "code",
   "execution_count": 16,
   "metadata": {},
   "outputs": [],
   "source": [
    "nom_fichier = 'test.txt'\n",
    "texte_liste = [[30, 30], [1, 'green4', 0, 0, 0], [2, 'goldenrod1', 0, 0, 1], [3, 'goldenrod1', 0, 0, 2], [4, 'goldenrod1', 0, 1, 0], [5, 'dodger blue', 0, 1, 1], [6, 'dodger blue', 0, 1, 2], [7, 'dodger blue', 0, 2, 0], [8, 'goldenrod1', 0, 2, 1], [9, 'green4', 0, 2, 2]]\n",
    "Fichier = open(nom_fichier, 'w')\n",
    "for i in texte_liste : \n",
    "    string = ' '.join([str(elem) for elem in i])  \n",
    "    Fichier.write(string + '\\n')\n",
    "Fichier.close()"
   ]
  },
  {
   "cell_type": "code",
   "execution_count": null,
   "metadata": {},
   "outputs": [],
   "source": []
  }
 ]
}