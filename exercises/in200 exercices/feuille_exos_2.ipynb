{
 "metadata": {
  "language_info": {
   "codemirror_mode": {
    "name": "ipython",
    "version": 3
   },
   "file_extension": ".py",
   "mimetype": "text/x-python",
   "name": "python",
   "nbconvert_exporter": "python",
   "pygments_lexer": "ipython3",
   "version": "3.8.5-final"
  },
  "orig_nbformat": 2,
  "kernelspec": {
   "name": "python3",
   "display_name": "Python 3.8.5 64-bit ('l1-python': conda)",
   "metadata": {
    "interpreter": {
     "hash": "ca722e5cbebffff18c2747035ca8d2e532d25cc6638ec7484ba653f8c47584ff"
    }
   }
  }
 },
 "nbformat": 4,
 "nbformat_minor": 2,
 "cells": [
  {
   "cell_type": "code",
   "execution_count": 24,
   "metadata": {},
   "outputs": [],
   "source": [
    "import tkinter as tk \n",
    "import random as rd \n",
    "\n",
    "graphique = tk.Tk()\n",
    "graphique.title('exerice 1')\n",
    "\n",
    "go = True\n",
    "boucle = 0\n",
    "\n",
    "def creer_balle():\n",
    "    ide = canevas.create_oval(280, 180, 320, 220, fill='DeepSkyBlue2')\n",
    "    return [ide, rd.randint(1,7), rd.randint(1,7)]\n",
    "\n",
    "def mouvement(balle):\n",
    "    global boucle\n",
    "    canevas.move(balle[0], balle[1], balle[2])\n",
    "    rebond_1(balle)\n",
    "    boucle = graphique.after(20, lambda : mouvement(balle))\n",
    "\n",
    "def demarrer():\n",
    "    global go, boucle\n",
    "    if go:\n",
    "        bouton_demarrer['text']='arrêter'\n",
    "        mouvement(balle)\n",
    "        go = False \n",
    "    else:\n",
    "        bouton_demarrer['text']='démarrer'\n",
    "        graphique.after_cancel(boucle)\n",
    "        go = True\n",
    "\n",
    "def rebond_1(balle):\n",
    "    x1, y1, x2, y2 = canevas.coords(balle[0])\n",
    "    if x2 >= 600 or x1 <=0:\n",
    "        balle[1] = -balle[1]\n",
    "    if y2 >= 400 or y1 <= 0:\n",
    "        balle[2] = -balle[2]\n",
    "\n",
    "\n",
    "canevas = tk.Canvas(graphique, heigh=400, width=600, bg='black')\n",
    "bouton_demarrer = tk.Button(graphique, text='démarrer', bg='IndianRed1', width=30, command=demarrer)\n",
    "\n",
    "canevas.grid(column=0, row=0, columnspan=3)\n",
    "bouton_demarrer.grid(column=1, row=1)\n",
    "\n",
    "balle = creer_balle()\n",
    "\n",
    "graphique.mainloop()"
   ]
  },
  {
   "cell_type": "code",
   "execution_count": null,
   "metadata": {},
   "outputs": [],
   "source": [
    "def rebond_1(balle):\n",
    "    x1, y1, x2, y2 = canevas.coords(balle[0])\n",
    "    if x2 >= 600 or x1 <=0:\n",
    "        balle[1] = -balle[1]\n",
    "    if y2 >= 400 or y1 <= 0:\n",
    "        balle[2] = -balle[2]\n",
    "\n",
    "def rebond_2(balle):\n",
    "    x1, y1, x2, y2 = canevas.coords(balle[0])\n",
    "    if y2 >=400 :\n",
    "        canevas.coords(balle[0], x1, 0, x2, 40)\n",
    "    elif x2 >= 600:\n",
    "        canevas.coords(balle[0], 0, y1, 40, y2)\n",
    "    elif y1 <=0 :\n",
    "        canevas.coords(balle[0], x1, 380, x2, 400)\n",
    "    elif x1 <= 0 : \n",
    "        canevas.coords(balle[0], 580, y1, 600, y2)"
   ]
  },
  {
   "cell_type": "code",
   "execution_count": null,
   "metadata": {},
   "outputs": [],
   "source": []
  }
 ]
}