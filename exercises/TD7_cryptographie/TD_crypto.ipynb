{
 "cells": [
  {
   "cell_type": "markdown",
   "metadata": {},
   "source": [
    "# Cryptographie\n",
    "\n",
    "Nous allons programmer une interface pour chiffrer et déchiffrer un message à partir d'une clé secrète.\n",
    "Vous commencerez par créer l'interface graphique suivante : deux zones de saisies de texte `Entry`, pour récupérer\n",
    "le message à chiffrer et la clé, deux boutons pour chiffrer et déchiffrer et une zone de saisie pour afficher le résultat (et pouvoir copier le résultat). "
   ]
  },
  {
   "cell_type": "code",
   "execution_count": 8,
   "metadata": {},
   "outputs": [],
   "source": [
    "import tkinter as tk"
   ]
  },
  {
   "cell_type": "code",
   "execution_count": 9,
   "metadata": {},
   "outputs": [
    {
     "output_type": "stream",
     "name": "stdout",
     "text": [
      "c\n"
     ]
    }
   ],
   "source": [
    "print(chr(ord('a')+2))"
   ]
  },
  {
   "cell_type": "markdown",
   "metadata": {},
   "source": [
    "1. Créer une fonction `decalage(lettre_message,lettre_cle)` qui prend en argument deux caractères ASCII (en python chaine de caractères d'une lettre) et qui renvoie le décalage de la première lettre par la seconde. On rapelle que la fonction `ord(caractere)` donne le code (entier) de `caractere` et que la fonction `chr(code)` qui transforme le code en le caractère correspondant. Les codes ASCII sont sur 8 bits."
   ]
  },
  {
   "cell_type": "code",
   "execution_count": 10,
   "metadata": {},
   "outputs": [
    {
     "output_type": "stream",
     "name": "stdout",
     "text": [
      "ý\n"
     ]
    }
   ],
   "source": [
    "def decalage(lettre_message,lettre_cle):\n",
    "    return chr((ord(lettre_message)+ord(lettre_cle)) % 256)\n",
    "\n",
    "print(decalage('a', chr(156)))"
   ]
  },
  {
   "cell_type": "markdown",
   "metadata": {},
   "source": [
    "2. Créer une fonction `chiffrer()` qui lit le message et la clé contenus dans les deux widgets `Entry` et \n",
    "applique lettre par lettre la fonction décalage. Si la clé est trop courte, elle est répétée cycliquement.\n",
    "Le résultat est affiché dans le widget `Entry` prévu à cet usage. \n",
    "Pour afficher dans un widget `Entry` qui s'appelle `entree`, il faut faire `entree.insert(0,texte)`\n",
    "et pour effacer le contenu du widget faire `entree.delete(0,tk.END)`. On fera une fonction qui effectuera le calcul et une fonction callback pour l'appliquer à nos textes en entrée."
   ]
  },
  {
   "cell_type": "code",
   "execution_count": 11,
   "metadata": {},
   "outputs": [],
   "source": [
    "def dec_texte(texte,cle):\n",
    "    taille_cle = len(cle)\n",
    "    res = \"\"\n",
    "    for i in range(len(texte)):\n",
    "        res += decalage(texte[i], cle[i % taille_cle])\n",
    "    return res \n",
    "\n",
    "def chiffre():\n",
    "    resultat.delete(0, tk.END)\n",
    "    text=entree_text.get()\n",
    "    cle=entree_cle.get()\n",
    "    if ((len(text)>0) & (len(cle)>0)):\n",
    "        res=dec_texte(text, cle)\n",
    "        resultat.insert(0, res)\n",
    "    else:\n",
    "        resultat.insert(0, \"il manque quelque chose\")"
   ]
  },
  {
   "cell_type": "markdown",
   "metadata": {},
   "source": [
    "3. Détecter si le message ou la clé est vide, pour afficher un message d'erreur."
   ]
  },
  {
   "cell_type": "code",
   "execution_count": null,
   "metadata": {},
   "outputs": [],
   "source": []
  },
  {
   "cell_type": "markdown",
   "metadata": {},
   "source": [
    "4. Créer une fonction `dechiffrer()` qui lit le message et la clé contenu dans les deux widgets `Entry` et déchiffre le message grâce à la clé. Le résultat est affiché dans le `Label` prévu à cet usage.\n",
    "En quoi l'opération est différente du chiffrement ?"
   ]
  },
  {
   "cell_type": "code",
   "execution_count": 12,
   "metadata": {},
   "outputs": [],
   "source": [
    "def dechiffrer(message_chiffre, cle):\n",
    "    taille_cle = len(cle)\n",
    "    res = \"\"\n",
    "    for i in range(len(message_chiffre)):\n",
    "        res += decalage(message_chiffre[i], chr(256-ord(cle[i%taille_cle])))\n",
    "    return res\n",
    "\n",
    "def dechiffre():\n",
    "    label.dech.config(text=dechiffrer(resultat.get(), entree_cle.get()))"
   ]
  },
  {
   "cell_type": "markdown",
   "metadata": {},
   "source": [
    "5. Tester votre programme en envoyant un message crypté à un de vos camarades et en lui donnant la clé à l'oral (par exemple votre prénom). Il doit être capable de retrouver le texte original."
   ]
  },
  {
   "cell_type": "markdown",
   "metadata": {},
   "source": [
    "6. Crypter un texte et cacher le dans une image avec le programme du TD précédent et envoyer le résultat à un camarade. Est-il capable de récupérer le message ?"
   ]
  },
  {
   "cell_type": "markdown",
   "metadata": {},
   "source": [
    "7. Au lieu de chiffrer caractère par caractère, on veut coder bit à bit en appliquant un XOR. \n",
    "Donner une nouvelle méthode `chiffre_xor(lettre_message,lettre_cle)` pour remplacer `decalage(lettre_message,lettre_cle)` et tester votre nouvelle méthode cryptage."
   ]
  },
  {
   "cell_type": "code",
   "execution_count": 13,
   "metadata": {},
   "outputs": [],
   "source": [
    "def chiffre_xor(lettre_message,lettre_cle):\n",
    "    return ord(lettre_message)^ord(lettre_cle)"
   ]
  },
  {
   "cell_type": "code",
   "execution_count": 14,
   "metadata": {},
   "outputs": [
    {
     "output_type": "stream",
     "name": "stderr",
     "text": [
      "Exception in Tkinter callback\n",
      "Traceback (most recent call last):\n",
      "  File \"C:\\Users\\pauho\\miniconda3\\envs\\l1-python\\lib\\tkinter\\__init__.py\", line 1883, in __call__\n",
      "    return self.func(*args)\n",
      "  File \"<ipython-input-11-df9e324f2fdd>\", line 10, in chiffre\n",
      "    text=entree_text.get()\n",
      "NameError: name 'entree_text' is not defined\n",
      "Exception in Tkinter callback\n",
      "Traceback (most recent call last):\n",
      "  File \"C:\\Users\\pauho\\miniconda3\\envs\\l1-python\\lib\\tkinter\\__init__.py\", line 1883, in __call__\n",
      "    return self.func(*args)\n",
      "  File \"<ipython-input-12-444a0f36cc8e>\", line 9, in dechiffre\n",
      "    label.dech.config(text=dechiffrer(resultat.get(), entree_cle.get()))\n",
      "NameError: name 'label' is not defined\n",
      "Exception in Tkinter callback\n",
      "Traceback (most recent call last):\n",
      "  File \"C:\\Users\\pauho\\miniconda3\\envs\\l1-python\\lib\\tkinter\\__init__.py\", line 1883, in __call__\n",
      "    return self.func(*args)\n",
      "  File \"<ipython-input-12-444a0f36cc8e>\", line 9, in dechiffre\n",
      "    label.dech.config(text=dechiffrer(resultat.get(), entree_cle.get()))\n",
      "NameError: name 'label' is not defined\n"
     ]
    }
   ],
   "source": [
    "racine=tk.Tk()\n",
    "racine.title(\"Cryptographie\")\n",
    "\n",
    "entree_texte = tk.Entry(racine, width = 50, font = (\"helvetica\", \"20\"))\n",
    "entree_texte.grid(row = 0, column = 0)\n",
    "\n",
    "entree_cle = tk.Entry(racine, width = 50, font = (\"helvetica\", \"20\"))\n",
    "entree_cle.grid(row = 1, column = 0)\n",
    "\n",
    "label_texte = tk.Label(racine,font = (\"helvetica\", \"20\"), text = \"Entrer le message ici.\")\n",
    "label_texte.grid(row = 0, column = 1)\n",
    "\n",
    "label_cle = tk.Label(racine,font = (\"helvetica\", \"20\"), text = \"Entrer la clé ici.\")\n",
    "label_cle.grid(row = 1, column = 1)\n",
    "\n",
    "bouton_coder=tk.Button(racine, text=\"Chiffrer texte\",fg=\"black\", width=15, command=chiffre)\n",
    "bouton_coder.grid(row=2, column=0)\n",
    "\n",
    "bouton_decoder=tk.Button(racine,text=\"Déchiffrer texte\",fg=\"black\",  width=15,command=dechiffre)\n",
    "bouton_decoder.grid(row=2, column=1)\n",
    "\n",
    "resultat=tk.Entry(racine,width = 50, font = (\"helvetica\", \"20\"))\n",
    "resultat.grid(row=3,column=0)\n",
    "\n",
    "\n",
    "racine.mainloop()"
   ]
  }
 ],
 "metadata": {
  "kernelspec": {
   "name": "python385jvsc74a57bd0ca722e5cbebffff18c2747035ca8d2e532d25cc6638ec7484ba653f8c47584ff",
   "display_name": "Python 3.8.5 64-bit ('l1-python': conda)"
  },
  "language_info": {
   "codemirror_mode": {
    "name": "ipython",
    "version": 3
   },
   "file_extension": ".py",
   "mimetype": "text/x-python",
   "name": "python",
   "nbconvert_exporter": "python",
   "pygments_lexer": "ipython3",
   "version": "3.8.5"
  }
 },
 "nbformat": 4,
 "nbformat_minor": 4
}