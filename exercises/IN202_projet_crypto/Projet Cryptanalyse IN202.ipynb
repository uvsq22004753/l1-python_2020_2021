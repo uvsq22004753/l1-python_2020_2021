{
 "cells": [
  {
   "cell_type": "markdown",
   "metadata": {},
   "source": [
    "# Cryptanalyse\n",
    "\n",
    "Votre mission, si vous l'acceptez, est de déchiffrer 4 textes de difficulté croissante en vous aidant d'un programme python que vous allez écrire.\n",
    "\n",
    "\n",
    "- Les fichiers ont été cryptés avec des méthodes données en cours.\n",
    "- Les fichiers chiffrés contiennent des textes en ASCII. Une fois déchiffrés ils vous donneront des informations.\n",
    "- Vous devez vous baser sur les fréquences d'apparition des lettres en français (et des paires de lettres) pour casser les codes. Faire une fonction de calcul pour vous aider.\n",
    "- Penser à réutliser le code du td de cryptographie comme base de travail.\n",
    "- Le code de votre programme doit être sur github et vous fournirez un lien vers votre projet github avec le code et le résultat du décodage\n",
    "en le déposant sur Moodle avant le mercredi 12 mai.\n",
    "- Une soutenance sera organisée le 17 mai.\n",
    "\n",
    "\n"
   ]
  },
  {
   "source": [
    "def frequence1(message_chiffre):\n",
    "    resultat = []\n",
    "    taille = len(message_chiffre) - message_chiffre.count(' ')\n",
    "    for lettre in message_chiffre:\n",
    "        if 97 <= ord(lettre) <= 122:\n",
    "            exist = True\n",
    "            for i in range(len(resultat)):\n",
    "                if resultat[i][0] == lettre:\n",
    "                    exist = False \n",
    "            if exist:\n",
    "                resultat.append([lettre, round(message_chiffre.count(lettre)/taille*100,2)])\n",
    "    return sorted(resultat, key=lambda pair: pair[1], reverse=True)"
   ],
   "cell_type": "code",
   "metadata": {},
   "execution_count": 51,
   "outputs": []
  },
  {
   "source": [
    "TEXT 1"
   ],
   "cell_type": "markdown",
   "metadata": {}
  },
  {
   "cell_type": "code",
   "execution_count": 52,
   "metadata": {},
   "outputs": [],
   "source": [
    "def rang(lettre):\n",
    "    return ord(lettre) - 97 \n",
    "\n",
    "def decalage(lettre_message, lettre_cle):\n",
    "    if 97 <= ord(lettre_message) <= 122:\n",
    "        return chr((rang(lettre_message) + rang(lettre_cle))%26 + 97)\n",
    "    else:\n",
    "        return lettre_message"
   ]
  },
  {
   "source": [
    "1ere étape : on calcul les fréquences des lettres et on les compare avec le tableau des fréquences suivantes : https://fr.wikipedia.org/wiki/Fr%C3%A9quence_d%27apparition_des_lettres_en_fran%C3%A7ais "
   ],
   "cell_type": "markdown",
   "metadata": {}
  },
  {
   "cell_type": "code",
   "execution_count": 55,
   "metadata": {},
   "outputs": [
    {
     "output_type": "execute_result",
     "data": {
      "text/plain": [
       "[['d', 18.44],\n",
       " ['q', 9.22],\n",
       " ['z', 8.51],\n",
       " ['t', 7.8],\n",
       " ['s', 7.8],\n",
       " ['k', 5.67],\n",
       " ['h', 5.67],\n",
       " ['r', 5.67],\n",
       " ['b', 4.96],\n",
       " ['o', 4.26],\n",
       " ['n', 3.55],\n",
       " ['m', 3.55],\n",
       " ['g', 2.84],\n",
       " ['c', 2.84],\n",
       " ['p', 2.13],\n",
       " ['e', 1.42],\n",
       " ['a', 1.42],\n",
       " ['l', 1.42],\n",
       " ['f', 0.71]]"
      ]
     },
     "metadata": {},
     "execution_count": 55
    }
   ],
   "source": [
    "fichier_texte_1 = open('Texte 1', 'r')\n",
    "texte_1 = fichier_texte_1.read()\n",
    "frequence1(texte_1)"
   ]
  },
  {
   "source": [
    "2ème étape : la lettre 'd' apparait le plus souvent. On peut supposer que cette lettre correspond normalement au 'e'. Maintenant, il s'agit de déterminer la clé en supposant puisque des mots se répètent, qu'il s'agit d'une cryptographie de taille 1. Quelle est la clé de chiffrement ?  "
   ],
   "cell_type": "markdown",
   "metadata": {}
  },
  {
   "cell_type": "code",
   "execution_count": 59,
   "metadata": {},
   "outputs": [
    {
     "output_type": "execute_result",
     "data": {
      "text/plain": [
       "('d', 'e')"
      ]
     },
     "metadata": {},
     "execution_count": 59
    }
   ],
   "source": [
    "decalage('e','z'), decalage('d','b')\n"
   ]
  },
  {
   "source": [
    "On remarque que la clé de chiffrement est z. La clé de déchiffrement est donc b (inverse). "
   ],
   "cell_type": "markdown",
   "metadata": {}
  },
  {
   "source": [
    "3ème etape : on applique ce décalage au texte du fichier 1 (en reprenant le dernier TD) "
   ],
   "cell_type": "markdown",
   "metadata": {}
  }
 ],
 "metadata": {
  "kernelspec": {
   "name": "python385jvsc74a57bd0ca722e5cbebffff18c2747035ca8d2e532d25cc6638ec7484ba653f8c47584ff",
   "display_name": "Python 3.8.5 64-bit ('l1-python': conda)"
  },
  "language_info": {
   "codemirror_mode": {
    "name": "ipython",
    "version": 3
   },
   "file_extension": ".py",
   "mimetype": "text/x-python",
   "name": "python",
   "nbconvert_exporter": "python",
   "pygments_lexer": "ipython3",
   "version": "3.8.5"
  }
 },
 "nbformat": 4,
 "nbformat_minor": 2
}