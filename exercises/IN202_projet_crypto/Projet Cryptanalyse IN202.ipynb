{
 "cells": [
  {
   "cell_type": "markdown",
   "metadata": {},
   "source": [
    "# Cryptanalyse\n",
    "\n",
    "Votre mission, si vous l'acceptez, est de déchiffrer 4 textes de difficulté croissante en vous aidant d'un programme python que vous allez écrire.\n",
    "\n",
    "\n",
    "- Les fichiers ont été cryptés avec des méthodes données en cours.\n",
    "- Les fichiers chiffrés contiennent des textes en ASCII. Une fois déchiffrés ils vous donneront des informations.\n",
    "- Vous devez vous baser sur les fréquences d'apparition des lettres en français (et des paires de lettres) pour casser les codes. Faire une fonction de calcul pour vous aider.\n",
    "- Penser à réutliser le code du td de cryptographie comme base de travail.\n",
    "- Le code de votre programme doit être sur github et vous fournirez un lien vers votre projet github avec le code et le résultat du décodage\n",
    "en le déposant sur Moodle avant le mercredi 12 mai.\n",
    "- Une soutenance sera organisée le 17 mai.\n",
    "\n",
    "\n"
   ]
  },
  {
   "cell_type": "code",
   "execution_count": 1,
   "metadata": {},
   "outputs": [],
   "source": [
    "import tkinter as tk "
   ]
  },
  {
   "source": [
    "def frequence1(message_chiffre):\n",
    "    \"\"\" donne la fréquence des lettres dans un texte\"\"\"\n",
    "    resultat = []\n",
    "    taille = len(message_chiffre) - message_chiffre.count(' ')\n",
    "    for lettre in message_chiffre:\n",
    "        if 97 <= ord(lettre) <= 122:\n",
    "            exist = True\n",
    "            for i in range(len(resultat)):\n",
    "                if resultat[i][0] == lettre:\n",
    "                    exist = False \n",
    "            if exist:\n",
    "                resultat.append([lettre, round(message_chiffre.count(lettre)/taille*100,2)])\n",
    "    return sorted(resultat, key=lambda pair: pair[1], reverse=True)"
   ],
   "cell_type": "code",
   "metadata": {},
   "execution_count": 2,
   "outputs": []
  },
  {
   "source": [
    "TEXTE 1"
   ],
   "cell_type": "markdown",
   "metadata": {}
  },
  {
   "cell_type": "code",
   "execution_count": 3,
   "metadata": {},
   "outputs": [],
   "source": [
    "def rang(lettre):\n",
    "    \"\"\" permet de numéroter les lettres de l'alphabet de 0 à 25 \"\"\"\n",
    "    return ord(lettre) - 97 \n",
    "\n",
    "def decalage(lettre_message, lettre_cle):\n",
    "    \"\"\"\" décale la lettre_message du nombre correspondant à lettre_clé\"\"\"\n",
    "    if 97 <= ord(lettre_message) <= 122:\n",
    "        return chr((rang(lettre_message) + rang(lettre_cle))%26 + 97)\n",
    "    else:\n",
    "        return lettre_message"
   ]
  },
  {
   "cell_type": "code",
   "execution_count": 4,
   "metadata": {},
   "outputs": [],
   "source": [
    "def dec_texte(texte,cle):\n",
    "    taille_cle = len(cle)\n",
    "    res = \"\"\n",
    "    for i in range(len(texte)):\n",
    "        res += decalage(texte[i],cle[i%taille_cle])\n",
    "    return res\n",
    "\n",
    "def chiffre():\n",
    "    resultat.delete(0,tk.END)\n",
    "    text=entree_texte.get()\n",
    "    cle=entree_cle.get()\n",
    "    if((len(text)>0) and (len(cle)>0)):\n",
    "        res=dec_texte(text,cle)\n",
    "        resultat.insert(0,res)\n",
    "    else:\n",
    "        resultat.insert(0,\"Il manque quelque chose\")"
   ]
  },
  {
   "cell_type": "code",
   "execution_count": 5,
   "metadata": {},
   "outputs": [],
   "source": [
    "def dechiffrer(message_chiffre,cle):\n",
    "    taille_cle = len(cle)\n",
    "    res = \"\"\n",
    "    for i in range(len(message_chiffre)):\n",
    "        res += decalage(message_chiffre[i],chr(256-ord(cle[i%taille_cle])))\n",
    "    return res\n",
    "\n",
    "\n",
    "def dechiffre():\n",
    "    label_dech.config(text=dechiffrer(resultat.get(),entree_cle.get()))"
   ]
  },
  {
   "cell_type": "code",
   "execution_count": 6,
   "metadata": {},
   "outputs": [],
   "source": [
    "racine=tk.Tk()\n",
    "racine.title(\"Cryptographie\")\n",
    "\n",
    "entree_texte = tk.Entry(racine, width = 50, font = (\"helvetica\", \"20\"))\n",
    "entree_texte.grid(row = 0, column = 0)\n",
    "\n",
    "entree_cle = tk.Entry(racine, width = 50, font = (\"helvetica\", \"20\"))\n",
    "entree_cle.grid(row = 1, column = 0)\n",
    "\n",
    "label_texte = tk.Label(racine,font = (\"helvetica\", \"20\"), text = \"Entrer le message ici.\")\n",
    "label_texte.grid(row = 0, column = 1)\n",
    "\n",
    "label_cle = tk.Label(racine,font = (\"helvetica\", \"20\"), text = \"Entrer la clé ici.\")\n",
    "label_cle.grid(row = 1, column = 1)\n",
    "\n",
    "label_dech = tk.Label(racine,font = (\"helvetica\", \"20\"), text = \"Déchiffre ici\")\n",
    "label_dech.grid(row = 3, column = 1)\n",
    "\n",
    "bouton_coder=tk.Button(racine, text=\"Chiffrer texte\",fg=\"black\", width=15, command=chiffre)\n",
    "bouton_coder.grid(row=2, column=0)\n",
    "\n",
    "bouton_decoder=tk.Button(racine,text=\"Déchiffrer texte\",fg=\"black\",  width=15,command=chiffre)\n",
    "bouton_decoder.grid(row=2, column=1)\n",
    "\n",
    "resultat=tk.Entry(racine,width = 50, font = (\"helvetica\", \"20\"))\n",
    "resultat.grid(row=3,column=0)\n",
    "\n",
    "\n",
    "racine.mainloop()"
   ]
  },
  {
   "source": [
    "1ere étape : on calcul les fréquences des lettres et on les compare avec le tableau des fréquences suivantes : https://fr.wikipedia.org/wiki/Fr%C3%A9quence_d%27apparition_des_lettres_en_fran%C3%A7ais "
   ],
   "cell_type": "markdown",
   "metadata": {}
  },
  {
   "cell_type": "code",
   "execution_count": 7,
   "metadata": {},
   "outputs": [
    {
     "output_type": "execute_result",
     "data": {
      "text/plain": [
       "[['d', 18.44],\n",
       " ['q', 9.22],\n",
       " ['z', 8.51],\n",
       " ['t', 7.8],\n",
       " ['s', 7.8],\n",
       " ['k', 5.67],\n",
       " ['h', 5.67],\n",
       " ['r', 5.67],\n",
       " ['b', 4.96],\n",
       " ['o', 4.26],\n",
       " ['n', 3.55],\n",
       " ['m', 3.55],\n",
       " ['g', 2.84],\n",
       " ['c', 2.84],\n",
       " ['p', 2.13],\n",
       " ['e', 1.42],\n",
       " ['a', 1.42],\n",
       " ['l', 1.42],\n",
       " ['f', 0.71]]"
      ]
     },
     "metadata": {},
     "execution_count": 7
    }
   ],
   "source": [
    "fichier_texte_1 = open('Texte 1', 'r')\n",
    "texte_1 = fichier_texte_1.read()\n",
    "frequence1(texte_1)"
   ]
  },
  {
   "source": [
    "2ème étape : la lettre 'd' apparait le plus souvent. On peut supposer que cette lettre correspond normalement au 'e'. Maintenant, il s'agit de déterminer la clé en supposant puisque des mots se répètent, qu'il s'agit d'une cryptographie de taille 1. Quelle est la clé de chiffrement ?  "
   ],
   "cell_type": "markdown",
   "metadata": {}
  },
  {
   "cell_type": "code",
   "execution_count": 8,
   "metadata": {},
   "outputs": [
    {
     "output_type": "execute_result",
     "data": {
      "text/plain": [
       "('d', 'e')"
      ]
     },
     "metadata": {},
     "execution_count": 8
    }
   ],
   "source": [
    "decalage('e','z'), decalage('d','b')\n"
   ]
  },
  {
   "source": [
    "On suppose que la clé de chiffrement est z. La clé de déchiffrement serait donc b (inverse). "
   ],
   "cell_type": "markdown",
   "metadata": {}
  },
  {
   "source": [
    "3ème etape : on applique ce décalage au texte du fichier 1 (en reprenant le dernier TD). On obtient le message suivant : \n",
    "le prochain fichier aura un code par substitution alphabetique: chaque lettre est remplacee par une autre. utiliser la frequence des lettres pour decoder le message."
   ],
   "cell_type": "markdown",
   "metadata": {}
  },
  {
   "source": [
    "TEXTE 2"
   ],
   "cell_type": "markdown",
   "metadata": {}
  },
  {
   "source": [
    "1ere étape : on calcul les fréquences des lettres et on les compare avec le tableau des fréquences suivantes : https://fr.wikipedia.org/wiki/Fr%C3%A9quence_d%27apparition_des_lettres_en_fran%C3%A7ais"
   ],
   "cell_type": "markdown",
   "metadata": {}
  },
  {
   "cell_type": "code",
   "execution_count": 9,
   "metadata": {},
   "outputs": [
    {
     "output_type": "execute_result",
     "data": {
      "text/plain": [
       "[['x', 19.35],\n",
       " ['i', 9.14],\n",
       " ['u', 9.14],\n",
       " ['g', 7.53],\n",
       " ['k', 5.91],\n",
       " ['d', 5.91],\n",
       " ['c', 5.91],\n",
       " ['o', 5.38],\n",
       " ['s', 5.38],\n",
       " ['n', 5.38],\n",
       " ['v', 4.3],\n",
       " ['y', 3.23],\n",
       " ['q', 2.69],\n",
       " ['f', 2.69],\n",
       " ['l', 1.61],\n",
       " ['w', 1.61],\n",
       " ['m', 1.08],\n",
       " ['a', 0.54]]"
      ]
     },
     "metadata": {},
     "execution_count": 9
    }
   ],
   "source": [
    "fichier_texte_2 = open('Texte 2', 'r')\n",
    "texte_2 = fichier_texte_2.read()\n",
    "frequence1(texte_2)"
   ]
  },
  {
   "cell_type": "code",
   "execution_count": 10,
   "metadata": {},
   "outputs": [],
   "source": [
    "def substitution(frequence):\n",
    "    match = []\n",
    "    freq_gen = ['e', 'a', 's', 'i', 'n', 'r', 't', 'l', 'u', 'o', 'd', 'c', 'p', 'm', 'v', 'g', 'f', 'b', 'q', 'h', 'x', 'j', 'y', 'z', 'k', 'w']\n",
    "    freq_texte = frequence1(frequence)\n",
    "    for i in range(len(freq_texte)):\n",
    "        match.append([freq_texte[i][0], freq_gen[i]])\n",
    "    return match "
   ]
  },
  {
   "cell_type": "code",
   "execution_count": 11,
   "metadata": {},
   "outputs": [
    {
     "output_type": "execute_result",
     "data": {
      "text/plain": [
       "[['x', 'e'],\n",
       " ['i', 'a'],\n",
       " ['u', 's'],\n",
       " ['g', 'i'],\n",
       " ['k', 'n'],\n",
       " ['d', 'r'],\n",
       " ['c', 't'],\n",
       " ['o', 'l'],\n",
       " ['s', 'u'],\n",
       " ['n', 'o'],\n",
       " ['v', 'd'],\n",
       " ['y', 'c'],\n",
       " ['q', 'p'],\n",
       " ['f', 'm'],\n",
       " ['l', 'v'],\n",
       " ['w', 'g'],\n",
       " ['m', 'f'],\n",
       " ['a', 'b']]"
      ]
     },
     "metadata": {},
     "execution_count": 11
    }
   ],
   "source": [
    "substitution(texte_2)"
   ]
  },
  {
   "cell_type": "code",
   "execution_count": 14,
   "metadata": {},
   "outputs": [],
   "source": [
    "def traduction(texte):\n",
    " \n",
    "            "
   ]
  },
  {
   "cell_type": "code",
   "execution_count": 15,
   "metadata": {},
   "outputs": [
    {
     "output_type": "error",
     "ename": "KeyboardInterrupt",
     "evalue": "",
     "traceback": [
      "\u001b[1;31m---------------------------------------------------------------------------\u001b[0m",
      "\u001b[1;31mKeyboardInterrupt\u001b[0m                         Traceback (most recent call last)",
      "\u001b[1;32m<ipython-input-15-5adb3280b443>\u001b[0m in \u001b[0;36m<module>\u001b[1;34m\u001b[0m\n\u001b[1;32m----> 1\u001b[1;33m \u001b[0mtraduction\u001b[0m\u001b[1;33m(\u001b[0m\u001b[0mtexte_2\u001b[0m\u001b[1;33m)\u001b[0m\u001b[1;33m\u001b[0m\u001b[1;33m\u001b[0m\u001b[0m\n\u001b[0m",
      "\u001b[1;32m<ipython-input-14-8159134b8939>\u001b[0m in \u001b[0;36mtraduction\u001b[1;34m(texte)\u001b[0m\n\u001b[0;32m      5\u001b[0m     \u001b[1;32mfor\u001b[0m \u001b[0mj\u001b[0m \u001b[1;32min\u001b[0m \u001b[0mrange\u001b[0m\u001b[1;33m(\u001b[0m\u001b[0mlen\u001b[0m\u001b[1;33m(\u001b[0m\u001b[0mtexte\u001b[0m\u001b[1;33m)\u001b[0m\u001b[1;33m)\u001b[0m\u001b[1;33m:\u001b[0m\u001b[1;33m\u001b[0m\u001b[1;33m\u001b[0m\u001b[0m\n\u001b[0;32m      6\u001b[0m        \u001b[1;32mwhile\u001b[0m \u001b[0mcran\u001b[0m \u001b[1;33m<=\u001b[0m \u001b[0mlen\u001b[0m\u001b[1;33m(\u001b[0m\u001b[0mmatch\u001b[0m\u001b[1;33m)\u001b[0m\u001b[1;33m:\u001b[0m\u001b[1;33m\u001b[0m\u001b[1;33m\u001b[0m\u001b[0m\n\u001b[1;32m----> 7\u001b[1;33m             \u001b[1;32mif\u001b[0m \u001b[0mtexte\u001b[0m\u001b[1;33m[\u001b[0m\u001b[0mj\u001b[0m\u001b[1;33m]\u001b[0m \u001b[1;33m==\u001b[0m \u001b[0mmatch\u001b[0m\u001b[1;33m[\u001b[0m\u001b[0mcran\u001b[0m\u001b[1;33m]\u001b[0m\u001b[1;33m[\u001b[0m\u001b[1;36m0\u001b[0m\u001b[1;33m]\u001b[0m\u001b[1;33m:\u001b[0m\u001b[1;33m\u001b[0m\u001b[1;33m\u001b[0m\u001b[0m\n\u001b[0m\u001b[0;32m      8\u001b[0m                \u001b[0mcran\u001b[0m \u001b[1;33m+=\u001b[0m \u001b[1;36m1\u001b[0m\u001b[1;33m\u001b[0m\u001b[1;33m\u001b[0m\u001b[0m\n\u001b[0;32m      9\u001b[0m     \u001b[1;32mreturn\u001b[0m \u001b[0mcran\u001b[0m\u001b[1;33m\u001b[0m\u001b[1;33m\u001b[0m\u001b[0m\n",
      "\u001b[1;31mKeyboardInterrupt\u001b[0m: "
     ]
    }
   ],
   "source": [
    "traduction(texte_2)"
   ]
  },
  {
   "cell_type": "code",
   "execution_count": null,
   "metadata": {},
   "outputs": [],
   "source": []
  }
 ],
 "metadata": {
  "kernelspec": {
   "name": "python385jvsc74a57bd0ca722e5cbebffff18c2747035ca8d2e532d25cc6638ec7484ba653f8c47584ff",
   "display_name": "Python 3.8.5 64-bit ('l1-python': conda)"
  },
  "language_info": {
   "codemirror_mode": {
    "name": "ipython",
    "version": 3
   },
   "file_extension": ".py",
   "mimetype": "text/x-python",
   "name": "python",
   "nbconvert_exporter": "python",
   "pygments_lexer": "ipython3",
   "version": "3.8.5"
  }
 },
 "nbformat": 4,
 "nbformat_minor": 2
}